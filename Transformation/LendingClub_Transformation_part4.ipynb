{
 "cells": [
  {
   "cell_type": "code",
   "execution_count": 1,
   "id": "ae8350d5",
   "metadata": {},
   "outputs": [],
   "source": [
    "from pyspark.sql import SparkSession\n",
    "import getpass \n",
    "username=getpass.getuser()\n",
    "spark=SparkSession. \\\n",
    "    builder. \\\n",
    "    config('spark.ui.port','0'). \\\n",
    "    config(\"spark.sql.warehouse.dir\", f\"/user/{username}/warehouse\"). \\\n",
    "    config('spark.shuffle.useOldFetchProtocol', 'true'). \\\n",
    "    enableHiveSupport(). \\\n",
    "    master('yarn'). \\\n",
    "    getOrCreate()"
   ]
  },
  {
   "cell_type": "code",
   "execution_count": 2,
   "id": "831f7357",
   "metadata": {},
   "outputs": [
    {
     "data": {
      "text/html": [
       "<table border='1'>\n",
       "<tr><th>member_id</th><th>total</th></tr>\n",
       "<tr><td>e4c167053d5418230...</td><td>5</td></tr>\n",
       "<tr><td>3f87585a20f702838...</td><td>4</td></tr>\n",
       "<tr><td>76b577467eda5bdbc...</td><td>4</td></tr>\n",
       "<tr><td>ad8e5d384dae17e06...</td><td>4</td></tr>\n",
       "<tr><td>4ab6205de571ccb7b...</td><td>3</td></tr>\n",
       "<tr><td>3ae415acd6bbfaac1...</td><td>3</td></tr>\n",
       "<tr><td>f9fc581aae696e0bd...</td><td>3</td></tr>\n",
       "<tr><td>059d401bb603d9a80...</td><td>3</td></tr>\n",
       "<tr><td>a2356725aa9da92c6...</td><td>3</td></tr>\n",
       "<tr><td>53789bea7edc660ed...</td><td>3</td></tr>\n",
       "<tr><td>d9ce4046daf599732...</td><td>3</td></tr>\n",
       "<tr><td>e7d8d16928817ec8f...</td><td>3</td></tr>\n",
       "<tr><td>819453be77718d747...</td><td>3</td></tr>\n",
       "<tr><td>498bb6b1f0099cb47...</td><td>3</td></tr>\n",
       "<tr><td>5d52e7773cb0efff3...</td><td>3</td></tr>\n",
       "<tr><td>22593a1870543b2db...</td><td>3</td></tr>\n",
       "<tr><td>d3731bad3e6a82515...</td><td>3</td></tr>\n",
       "<tr><td>c563428cb58da48ff...</td><td>3</td></tr>\n",
       "<tr><td>c92062bb371842b3d...</td><td>3</td></tr>\n",
       "<tr><td>f54295a60946dedad...</td><td>3</td></tr>\n",
       "</table>\n",
       "only showing top 20 rows\n"
      ],
      "text/plain": [
       "+--------------------+-----+\n",
       "|           member_id|total|\n",
       "+--------------------+-----+\n",
       "|e4c167053d5418230...|    5|\n",
       "|ad8e5d384dae17e06...|    4|\n",
       "|3f87585a20f702838...|    4|\n",
       "|76b577467eda5bdbc...|    4|\n",
       "|819453be77718d747...|    3|\n",
       "|f54295a60946dedad...|    3|\n",
       "|035bf3d8288d803bd...|    3|\n",
       "|53789bea7edc660ed...|    3|\n",
       "|291ca1b09ef11ca3e...|    3|\n",
       "|4ab6205de571ccb7b...|    3|\n",
       "|d3731bad3e6a82515...|    3|\n",
       "|066ddaa64bee66dff...|    3|\n",
       "|3ae415acd6bbfaac1...|    3|\n",
       "|e7d8d16928817ec8f...|    3|\n",
       "|498bb6b1f0099cb47...|    3|\n",
       "|a2356725aa9da92c6...|    3|\n",
       "|5d52e7773cb0efff3...|    3|\n",
       "|c563428cb58da48ff...|    3|\n",
       "|22593a1870543b2db...|    3|\n",
       "|059d401bb603d9a80...|    3|\n",
       "+--------------------+-----+\n",
       "only showing top 20 rows"
      ]
     },
     "execution_count": 2,
     "metadata": {},
     "output_type": "execute_result"
    }
   ],
   "source": [
    "spark.sql(\"\"\"select member_id, count(*) as total \n",
    "from itv006277_lending_club.customers\n",
    "group by member_id order by total desc\n",
    "\"\"\")"
   ]
  },
  {
   "cell_type": "code",
   "execution_count": 3,
   "id": "a85e480b",
   "metadata": {},
   "outputs": [
    {
     "data": {
      "text/html": [
       "<table border='1'>\n",
       "<tr><th>member_id</th><th>emp_title</th><th>emp_length</th><th>home_ownership</th><th>annual_income</th><th>address_state</th><th>address_zipcode</th><th>address_country</th><th>grade</th><th>sub_grade</th><th>verification_status</th><th>total_high_credit_limit</th><th>application_type</th><th>join_annual_income</th><th>verification_status_joint</th><th>ingest_date</th></tr>\n",
       "<tr><td>e4c167053d5418230...</td><td>null</td><td>6</td><td>MORTGAGE</td><td>55000.0</td><td>IL</td><td>604xx</td><td>USA</td><td>B</td><td>B5</td><td>Verified</td><td>138780.0</td><td>Individual</td><td>null</td><td>null</td><td>2023-09-15 17:18:...</td></tr>\n",
       "<tr><td>e4c167053d5418230...</td><td>null</td><td>6</td><td>MORTGAGE</td><td>55000.0</td><td>IL</td><td>604xx</td><td>USA</td><td>B</td><td>B5</td><td>Verified</td><td>171165.0</td><td>Individual</td><td>null</td><td>null</td><td>2023-09-15 17:18:...</td></tr>\n",
       "<tr><td>e4c167053d5418230...</td><td>null</td><td>6</td><td>MORTGAGE</td><td>55000.0</td><td>IL</td><td>604xx</td><td>USA</td><td>B</td><td>B5</td><td>Verified</td><td>110907.0</td><td>Individual</td><td>null</td><td>null</td><td>2023-09-15 17:18:...</td></tr>\n",
       "<tr><td>e4c167053d5418230...</td><td>null</td><td>6</td><td>MORTGAGE</td><td>55000.0</td><td>IL</td><td>604xx</td><td>USA</td><td>B</td><td>B5</td><td>Verified</td><td>129833.0</td><td>Individual</td><td>null</td><td>null</td><td>2023-09-15 17:18:...</td></tr>\n",
       "<tr><td>e4c167053d5418230...</td><td>null</td><td>6</td><td>MORTGAGE</td><td>55000.0</td><td>IL</td><td>604xx</td><td>USA</td><td>B</td><td>B5</td><td>Verified</td><td>207300.0</td><td>Individual</td><td>null</td><td>null</td><td>2023-09-15 17:18:...</td></tr>\n",
       "</table>\n"
      ],
      "text/plain": [
       "+--------------------+---------+----------+--------------+-------------+-------------+---------------+---------------+-----+---------+-------------------+-----------------------+----------------+------------------+-------------------------+--------------------+\n",
       "|           member_id|emp_title|emp_length|home_ownership|annual_income|address_state|address_zipcode|address_country|grade|sub_grade|verification_status|total_high_credit_limit|application_type|join_annual_income|verification_status_joint|         ingest_date|\n",
       "+--------------------+---------+----------+--------------+-------------+-------------+---------------+---------------+-----+---------+-------------------+-----------------------+----------------+------------------+-------------------------+--------------------+\n",
       "|e4c167053d5418230...|     null|         6|      MORTGAGE|      55000.0|           IL|          604xx|            USA|    B|       B5|           Verified|               138780.0|      Individual|              null|                     null|2023-09-15 17:18:...|\n",
       "|e4c167053d5418230...|     null|         6|      MORTGAGE|      55000.0|           IL|          604xx|            USA|    B|       B5|           Verified|               171165.0|      Individual|              null|                     null|2023-09-15 17:18:...|\n",
       "|e4c167053d5418230...|     null|         6|      MORTGAGE|      55000.0|           IL|          604xx|            USA|    B|       B5|           Verified|               110907.0|      Individual|              null|                     null|2023-09-15 17:18:...|\n",
       "|e4c167053d5418230...|     null|         6|      MORTGAGE|      55000.0|           IL|          604xx|            USA|    B|       B5|           Verified|               129833.0|      Individual|              null|                     null|2023-09-15 17:18:...|\n",
       "|e4c167053d5418230...|     null|         6|      MORTGAGE|      55000.0|           IL|          604xx|            USA|    B|       B5|           Verified|               207300.0|      Individual|              null|                     null|2023-09-15 17:18:...|\n",
       "+--------------------+---------+----------+--------------+-------------+-------------+---------------+---------------+-----+---------+-------------------+-----------------------+----------------+------------------+-------------------------+--------------------+"
      ]
     },
     "execution_count": 3,
     "metadata": {},
     "output_type": "execute_result"
    }
   ],
   "source": [
    "spark.sql(\"\"\"select * from itv006277_lending_club.customers \n",
    "where member_id like 'e4c167053d5418230%'\"\"\")"
   ]
  },
  {
   "cell_type": "code",
   "execution_count": 4,
   "id": "d498680c",
   "metadata": {},
   "outputs": [
    {
     "data": {
      "text/html": [
       "<table border='1'>\n",
       "<tr><th>member_id</th><th>total</th></tr>\n",
       "<tr><td>e4c167053d5418230...</td><td>3</td></tr>\n",
       "<tr><td>b3d4eb0c5a9239348...</td><td>2</td></tr>\n",
       "<tr><td>b5ded5638e54e1692...</td><td>2</td></tr>\n",
       "<tr><td>c23eb88fed4893030...</td><td>2</td></tr>\n",
       "<tr><td>694c6cb86608015e9...</td><td>2</td></tr>\n",
       "<tr><td>a93a44c9d83793451...</td><td>2</td></tr>\n",
       "<tr><td>db887c1d4cb004ca8...</td><td>2</td></tr>\n",
       "<tr><td>ac9a3da3b89f9228e...</td><td>2</td></tr>\n",
       "<tr><td>cbede54df344cdb94...</td><td>2</td></tr>\n",
       "<tr><td>58dde656f747cee8b...</td><td>2</td></tr>\n",
       "<tr><td>62394e3f9d063413b...</td><td>2</td></tr>\n",
       "<tr><td>0b44a10bc749eabb2...</td><td>2</td></tr>\n",
       "<tr><td>17d76ba5141e1c33a...</td><td>2</td></tr>\n",
       "<tr><td>dbe5ec23d01598dbf...</td><td>2</td></tr>\n",
       "<tr><td>343344c3c65b023af...</td><td>2</td></tr>\n",
       "<tr><td>c16e1f92ae5ccc785...</td><td>2</td></tr>\n",
       "<tr><td>8d2c605c7ad9209cc...</td><td>2</td></tr>\n",
       "<tr><td>bbe43331566910d55...</td><td>2</td></tr>\n",
       "<tr><td>6918b9861ba5a4c67...</td><td>2</td></tr>\n",
       "<tr><td>6c2b63ff231e520d4...</td><td>2</td></tr>\n",
       "</table>\n",
       "only showing top 20 rows\n"
      ],
      "text/plain": [
       "+--------------------+-----+\n",
       "|           member_id|total|\n",
       "+--------------------+-----+\n",
       "|e4c167053d5418230...|    3|\n",
       "|343344c3c65b023af...|    2|\n",
       "|0b44a10bc749eabb2...|    2|\n",
       "|b3d4eb0c5a9239348...|    2|\n",
       "|694c6cb86608015e9...|    2|\n",
       "|62394e3f9d063413b...|    2|\n",
       "|dbe5ec23d01598dbf...|    2|\n",
       "|f1ebb6edb9b07de5f...|    2|\n",
       "|a93a44c9d83793451...|    2|\n",
       "|bbe43331566910d55...|    2|\n",
       "|58dde656f747cee8b...|    2|\n",
       "|77db5fdf951dd04b2...|    2|\n",
       "|4f7579700cd9d49d7...|    2|\n",
       "|17d76ba5141e1c33a...|    2|\n",
       "|ac9a3da3b89f9228e...|    2|\n",
       "|c23eb88fed4893030...|    2|\n",
       "|8d2c605c7ad9209cc...|    2|\n",
       "|b5ded5638e54e1692...|    2|\n",
       "|6c2b63ff231e520d4...|    2|\n",
       "|cbede54df344cdb94...|    2|\n",
       "+--------------------+-----+\n",
       "only showing top 20 rows"
      ]
     },
     "execution_count": 4,
     "metadata": {},
     "output_type": "execute_result"
    }
   ],
   "source": [
    "spark.sql(\"\"\"select member_id, count(*) as total \n",
    "from itv006277_lending_club.loans_defaulters_delinq\n",
    "group by member_id order by total desc\n",
    "\"\"\")"
   ]
  },
  {
   "cell_type": "code",
   "execution_count": 5,
   "id": "ced7dbf6",
   "metadata": {},
   "outputs": [
    {
     "data": {
      "text/html": [
       "<table border='1'>\n",
       "<tr><th>member_id</th><th>delinq_2yrs</th><th>delinq_amnt</th><th>mths_since_last_delinq</th></tr>\n",
       "<tr><td>e4c167053d5418230...</td><td>3</td><td>0.0</td><td>0</td></tr>\n",
       "<tr><td>e4c167053d5418230...</td><td>1</td><td>0.0</td><td>0</td></tr>\n",
       "<tr><td>e4c167053d5418230...</td><td>1</td><td>0.0</td><td>45</td></tr>\n",
       "</table>\n"
      ],
      "text/plain": [
       "+--------------------+-----------+-----------+----------------------+\n",
       "|           member_id|delinq_2yrs|delinq_amnt|mths_since_last_delinq|\n",
       "+--------------------+-----------+-----------+----------------------+\n",
       "|e4c167053d5418230...|          3|        0.0|                     0|\n",
       "|e4c167053d5418230...|          1|        0.0|                     0|\n",
       "|e4c167053d5418230...|          1|        0.0|                    45|\n",
       "+--------------------+-----------+-----------+----------------------+"
      ]
     },
     "execution_count": 5,
     "metadata": {},
     "output_type": "execute_result"
    }
   ],
   "source": [
    "spark.sql(\"\"\"select * from itv006277_lending_club.loans_defaulters_delinq\n",
    "where member_id like 'e4c167053d5418230%'\"\"\")"
   ]
  },
  {
   "cell_type": "code",
   "execution_count": 6,
   "id": "4040b41e",
   "metadata": {},
   "outputs": [
    {
     "data": {
      "text/html": [
       "<table border='1'>\n",
       "<tr><th>member_id</th><th>total</th></tr>\n",
       "<tr><td>e3b0c44298fc1c149...</td><td>33</td></tr>\n",
       "<tr><td>e4c167053d5418230...</td><td>5</td></tr>\n",
       "<tr><td>3f87585a20f702838...</td><td>4</td></tr>\n",
       "<tr><td>76b577467eda5bdbc...</td><td>4</td></tr>\n",
       "<tr><td>ad8e5d384dae17e06...</td><td>4</td></tr>\n",
       "<tr><td>e7d8d16928817ec8f...</td><td>3</td></tr>\n",
       "<tr><td>53789bea7edc660ed...</td><td>3</td></tr>\n",
       "<tr><td>d3731bad3e6a82515...</td><td>3</td></tr>\n",
       "<tr><td>059d401bb603d9a80...</td><td>3</td></tr>\n",
       "<tr><td>819453be77718d747...</td><td>3</td></tr>\n",
       "<tr><td>4ab6205de571ccb7b...</td><td>3</td></tr>\n",
       "<tr><td>035bf3d8288d803bd...</td><td>3</td></tr>\n",
       "<tr><td>c92062bb371842b3d...</td><td>3</td></tr>\n",
       "<tr><td>f54295a60946dedad...</td><td>3</td></tr>\n",
       "<tr><td>291ca1b09ef11ca3e...</td><td>3</td></tr>\n",
       "<tr><td>a2356725aa9da92c6...</td><td>3</td></tr>\n",
       "<tr><td>5d52e7773cb0efff3...</td><td>3</td></tr>\n",
       "<tr><td>066ddaa64bee66dff...</td><td>3</td></tr>\n",
       "<tr><td>c563428cb58da48ff...</td><td>3</td></tr>\n",
       "<tr><td>22593a1870543b2db...</td><td>3</td></tr>\n",
       "</table>\n",
       "only showing top 20 rows\n"
      ],
      "text/plain": [
       "+--------------------+-----+\n",
       "|           member_id|total|\n",
       "+--------------------+-----+\n",
       "|e3b0c44298fc1c149...|   33|\n",
       "|e4c167053d5418230...|    5|\n",
       "|3f87585a20f702838...|    4|\n",
       "|76b577467eda5bdbc...|    4|\n",
       "|ad8e5d384dae17e06...|    4|\n",
       "|c92062bb371842b3d...|    3|\n",
       "|22593a1870543b2db...|    3|\n",
       "|035bf3d8288d803bd...|    3|\n",
       "|53789bea7edc660ed...|    3|\n",
       "|291ca1b09ef11ca3e...|    3|\n",
       "|5d52e7773cb0efff3...|    3|\n",
       "|d3731bad3e6a82515...|    3|\n",
       "|3ae415acd6bbfaac1...|    3|\n",
       "|f54295a60946dedad...|    3|\n",
       "|e7d8d16928817ec8f...|    3|\n",
       "|498bb6b1f0099cb47...|    3|\n",
       "|a2356725aa9da92c6...|    3|\n",
       "|4ab6205de571ccb7b...|    3|\n",
       "|c563428cb58da48ff...|    3|\n",
       "|066ddaa64bee66dff...|    3|\n",
       "+--------------------+-----+\n",
       "only showing top 20 rows"
      ]
     },
     "execution_count": 6,
     "metadata": {},
     "output_type": "execute_result"
    }
   ],
   "source": [
    "spark.sql(\"\"\"select member_id, count(*) as total \n",
    "from itv006277_lending_club.loans_defaulters_detail_rec_enq\n",
    "group by member_id order by total desc\n",
    "\"\"\")"
   ]
  },
  {
   "cell_type": "code",
   "execution_count": 7,
   "id": "39ce80d8",
   "metadata": {},
   "outputs": [
    {
     "data": {
      "text/html": [
       "<table border='1'>\n",
       "<tr><th>member_id</th><th>pub_rec</th><th>pub_rec_bankruptcies</th><th>inq_last_6mths</th></tr>\n",
       "<tr><td>e4c167053d5418230...</td><td>0</td><td>0</td><td>0</td></tr>\n",
       "<tr><td>e4c167053d5418230...</td><td>0</td><td>0</td><td>3</td></tr>\n",
       "<tr><td>e4c167053d5418230...</td><td>0</td><td>0</td><td>2</td></tr>\n",
       "<tr><td>e4c167053d5418230...</td><td>0</td><td>0</td><td>1</td></tr>\n",
       "<tr><td>e4c167053d5418230...</td><td>0</td><td>0</td><td>0</td></tr>\n",
       "</table>\n"
      ],
      "text/plain": [
       "+--------------------+-------+--------------------+--------------+\n",
       "|           member_id|pub_rec|pub_rec_bankruptcies|inq_last_6mths|\n",
       "+--------------------+-------+--------------------+--------------+\n",
       "|e4c167053d5418230...|      0|                   0|             0|\n",
       "|e4c167053d5418230...|      0|                   0|             3|\n",
       "|e4c167053d5418230...|      0|                   0|             2|\n",
       "|e4c167053d5418230...|      0|                   0|             1|\n",
       "|e4c167053d5418230...|      0|                   0|             0|\n",
       "+--------------------+-------+--------------------+--------------+"
      ]
     },
     "execution_count": 7,
     "metadata": {},
     "output_type": "execute_result"
    }
   ],
   "source": [
    "spark.sql(\"\"\"select * from itv006277_lending_club.loans_defaulters_detail_rec_enq\n",
    "where member_id like 'e4c167053d5418230%'\"\"\")"
   ]
  },
  {
   "cell_type": "code",
   "execution_count": 8,
   "id": "10f8df18",
   "metadata": {},
   "outputs": [],
   "source": [
    "bad_data_customer_df = spark.sql(\"\"\"select member_id from(select member_id, count(*)\n",
    "as total from itv006277_lending_club.customers\n",
    "group by member_id having total > 1)\"\"\")"
   ]
  },
  {
   "cell_type": "code",
   "execution_count": 9,
   "id": "71720550",
   "metadata": {},
   "outputs": [
    {
     "data": {
      "text/plain": [
       "3157"
      ]
     },
     "execution_count": 9,
     "metadata": {},
     "output_type": "execute_result"
    }
   ],
   "source": [
    "bad_data_customer_df.count()"
   ]
  },
  {
   "cell_type": "code",
   "execution_count": 10,
   "id": "8eacfa49",
   "metadata": {},
   "outputs": [
    {
     "data": {
      "text/html": [
       "<table border='1'>\n",
       "<tr><th>member_id</th></tr>\n",
       "<tr><td>61be6498c93cadf89...</td></tr>\n",
       "<tr><td>fc0e468bff11ac7c3...</td></tr>\n",
       "<tr><td>01b2223757c3b62e7...</td></tr>\n",
       "<tr><td>a2af7506825a7dcff...</td></tr>\n",
       "<tr><td>675151e58a628e87b...</td></tr>\n",
       "<tr><td>a53e2f488d2d76a30...</td></tr>\n",
       "<tr><td>cbede54df344cdb94...</td></tr>\n",
       "<tr><td>761b2f1e61999e14e...</td></tr>\n",
       "<tr><td>2bae2e4dd6d5f2b21...</td></tr>\n",
       "<tr><td>f99c6e9cfe3a7a2d2...</td></tr>\n",
       "<tr><td>5130d0087970e032e...</td></tr>\n",
       "<tr><td>7115ace193e13d8f3...</td></tr>\n",
       "<tr><td>eebbd89aa7efc13e7...</td></tr>\n",
       "<tr><td>4231a55d0199c619a...</td></tr>\n",
       "<tr><td>3b8ffe19f24749a73...</td></tr>\n",
       "<tr><td>d4782ddad8591f44d...</td></tr>\n",
       "<tr><td>f284044b881f218c0...</td></tr>\n",
       "<tr><td>cd1fdca829c443fa7...</td></tr>\n",
       "<tr><td>8408f3b8762d8d8bc...</td></tr>\n",
       "<tr><td>759c2dc5f485e5465...</td></tr>\n",
       "</table>\n",
       "only showing top 20 rows\n"
      ],
      "text/plain": [
       "+--------------------+\n",
       "|           member_id|\n",
       "+--------------------+\n",
       "|61be6498c93cadf89...|\n",
       "|f99c6e9cfe3a7a2d2...|\n",
       "|761b2f1e61999e14e...|\n",
       "|5130d0087970e032e...|\n",
       "|675151e58a628e87b...|\n",
       "|7115ace193e13d8f3...|\n",
       "|eebbd89aa7efc13e7...|\n",
       "|4231a55d0199c619a...|\n",
       "|3b8ffe19f24749a73...|\n",
       "|d4782ddad8591f44d...|\n",
       "|01b2223757c3b62e7...|\n",
       "|a2af7506825a7dcff...|\n",
       "|a53e2f488d2d76a30...|\n",
       "|fc0e468bff11ac7c3...|\n",
       "|cbede54df344cdb94...|\n",
       "|2bae2e4dd6d5f2b21...|\n",
       "|f284044b881f218c0...|\n",
       "|cd1fdca829c443fa7...|\n",
       "|8408f3b8762d8d8bc...|\n",
       "|759c2dc5f485e5465...|\n",
       "+--------------------+\n",
       "only showing top 20 rows"
      ]
     },
     "execution_count": 10,
     "metadata": {},
     "output_type": "execute_result"
    }
   ],
   "source": [
    "bad_data_customer_df"
   ]
  },
  {
   "cell_type": "code",
   "execution_count": 11,
   "id": "578c7543",
   "metadata": {},
   "outputs": [],
   "source": [
    "bad_data_loans_defaulters_delinq_df = spark.sql(\"\"\"select member_id from(select member_id, count(*)\n",
    "as total from itv006277_lending_club.loans_defaulters_delinq\n",
    "group by member_id having total > 1)\"\"\")"
   ]
  },
  {
   "cell_type": "code",
   "execution_count": 12,
   "id": "57d29ebb",
   "metadata": {},
   "outputs": [
    {
     "data": {
      "text/plain": [
       "173"
      ]
     },
     "execution_count": 12,
     "metadata": {},
     "output_type": "execute_result"
    }
   ],
   "source": [
    "bad_data_loans_defaulters_delinq_df.count()"
   ]
  },
  {
   "cell_type": "code",
   "execution_count": 13,
   "id": "400e6703",
   "metadata": {},
   "outputs": [
    {
     "data": {
      "text/html": [
       "<table border='1'>\n",
       "<tr><th>member_id</th></tr>\n",
       "<tr><td>cbede54df344cdb94...</td></tr>\n",
       "<tr><td>8d2c605c7ad9209cc...</td></tr>\n",
       "<tr><td>bbe43331566910d55...</td></tr>\n",
       "<tr><td>6918b9861ba5a4c67...</td></tr>\n",
       "<tr><td>a93a44c9d83793451...</td></tr>\n",
       "<tr><td>b5ded5638e54e1692...</td></tr>\n",
       "<tr><td>6c2b63ff231e520d4...</td></tr>\n",
       "<tr><td>694c6cb86608015e9...</td></tr>\n",
       "<tr><td>58dde656f747cee8b...</td></tr>\n",
       "<tr><td>0b44a10bc749eabb2...</td></tr>\n",
       "<tr><td>62394e3f9d063413b...</td></tr>\n",
       "<tr><td>77db5fdf951dd04b2...</td></tr>\n",
       "<tr><td>4f7579700cd9d49d7...</td></tr>\n",
       "<tr><td>17d76ba5141e1c33a...</td></tr>\n",
       "<tr><td>dbe5ec23d01598dbf...</td></tr>\n",
       "<tr><td>c16e1f92ae5ccc785...</td></tr>\n",
       "<tr><td>343344c3c65b023af...</td></tr>\n",
       "<tr><td>db887c1d4cb004ca8...</td></tr>\n",
       "<tr><td>c23eb88fed4893030...</td></tr>\n",
       "<tr><td>ac9a3da3b89f9228e...</td></tr>\n",
       "</table>\n",
       "only showing top 20 rows\n"
      ],
      "text/plain": [
       "+--------------------+\n",
       "|           member_id|\n",
       "+--------------------+\n",
       "|cbede54df344cdb94...|\n",
       "|8d2c605c7ad9209cc...|\n",
       "|bbe43331566910d55...|\n",
       "|6918b9861ba5a4c67...|\n",
       "|a93a44c9d83793451...|\n",
       "|b5ded5638e54e1692...|\n",
       "|6c2b63ff231e520d4...|\n",
       "|694c6cb86608015e9...|\n",
       "|58dde656f747cee8b...|\n",
       "|0b44a10bc749eabb2...|\n",
       "|62394e3f9d063413b...|\n",
       "|77db5fdf951dd04b2...|\n",
       "|4f7579700cd9d49d7...|\n",
       "|dbe5ec23d01598dbf...|\n",
       "|17d76ba5141e1c33a...|\n",
       "|343344c3c65b023af...|\n",
       "|c16e1f92ae5ccc785...|\n",
       "|db887c1d4cb004ca8...|\n",
       "|c23eb88fed4893030...|\n",
       "|ac9a3da3b89f9228e...|\n",
       "+--------------------+\n",
       "only showing top 20 rows"
      ]
     },
     "execution_count": 13,
     "metadata": {},
     "output_type": "execute_result"
    }
   ],
   "source": [
    "bad_data_loans_defaulters_delinq_df"
   ]
  },
  {
   "cell_type": "code",
   "execution_count": 14,
   "id": "9b5d9b15",
   "metadata": {},
   "outputs": [],
   "source": [
    "bad_data_loans_defaulters_detail_rec_enq_df = spark.sql(\"\"\"select member_id from(select member_id, count(*)\n",
    "as total from itv006277_lending_club.loans_defaulters_detail_rec_enq\n",
    "group by member_id having total > 1)\"\"\")"
   ]
  },
  {
   "cell_type": "code",
   "execution_count": 15,
   "id": "6f0684c2",
   "metadata": {},
   "outputs": [
    {
     "data": {
      "text/plain": [
       "3189"
      ]
     },
     "execution_count": 15,
     "metadata": {},
     "output_type": "execute_result"
    }
   ],
   "source": [
    "bad_data_loans_defaulters_detail_rec_enq_df.count()"
   ]
  },
  {
   "cell_type": "code",
   "execution_count": 16,
   "id": "986c2be8",
   "metadata": {},
   "outputs": [
    {
     "data": {
      "text/html": [
       "<table border='1'>\n",
       "<tr><th>member_id</th></tr>\n",
       "<tr><td>cbede54df344cdb94...</td></tr>\n",
       "<tr><td>cd1fdca829c443fa7...</td></tr>\n",
       "<tr><td>4231a55d0199c619a...</td></tr>\n",
       "<tr><td>675151e58a628e87b...</td></tr>\n",
       "<tr><td>01b2223757c3b62e7...</td></tr>\n",
       "<tr><td>f99c6e9cfe3a7a2d2...</td></tr>\n",
       "<tr><td>a53e2f488d2d76a30...</td></tr>\n",
       "<tr><td>a2af7506825a7dcff...</td></tr>\n",
       "<tr><td>d4782ddad8591f44d...</td></tr>\n",
       "<tr><td>5130d0087970e032e...</td></tr>\n",
       "<tr><td>3b8ffe19f24749a73...</td></tr>\n",
       "<tr><td>fc0e468bff11ac7c3...</td></tr>\n",
       "<tr><td>2bae2e4dd6d5f2b21...</td></tr>\n",
       "<tr><td>61be6498c93cadf89...</td></tr>\n",
       "<tr><td>761b2f1e61999e14e...</td></tr>\n",
       "<tr><td>f284044b881f218c0...</td></tr>\n",
       "<tr><td>7115ace193e13d8f3...</td></tr>\n",
       "<tr><td>eebbd89aa7efc13e7...</td></tr>\n",
       "<tr><td>759c2dc5f485e5465...</td></tr>\n",
       "<tr><td>53789bea7edc660ed...</td></tr>\n",
       "</table>\n",
       "only showing top 20 rows\n"
      ],
      "text/plain": [
       "+--------------------+\n",
       "|           member_id|\n",
       "+--------------------+\n",
       "|675151e58a628e87b...|\n",
       "|f284044b881f218c0...|\n",
       "|a53e2f488d2d76a30...|\n",
       "|fc0e468bff11ac7c3...|\n",
       "|61be6498c93cadf89...|\n",
       "|7115ace193e13d8f3...|\n",
       "|eebbd89aa7efc13e7...|\n",
       "|01b2223757c3b62e7...|\n",
       "|a2af7506825a7dcff...|\n",
       "|d4782ddad8591f44d...|\n",
       "|5130d0087970e032e...|\n",
       "|761b2f1e61999e14e...|\n",
       "|cbede54df344cdb94...|\n",
       "|cd1fdca829c443fa7...|\n",
       "|4231a55d0199c619a...|\n",
       "|f99c6e9cfe3a7a2d2...|\n",
       "|3b8ffe19f24749a73...|\n",
       "|2bae2e4dd6d5f2b21...|\n",
       "|46cb438a0bd1b7194...|\n",
       "|d12c5766068d3b377...|\n",
       "+--------------------+\n",
       "only showing top 20 rows"
      ]
     },
     "execution_count": 16,
     "metadata": {},
     "output_type": "execute_result"
    }
   ],
   "source": [
    "bad_data_loans_defaulters_detail_rec_enq_df"
   ]
  },
  {
   "cell_type": "code",
   "execution_count": 17,
   "id": "9e64188c",
   "metadata": {},
   "outputs": [],
   "source": [
    "bad_data_customer_df.repartition(1).write \\\n",
    ".format(\"csv\") \\\n",
    ".option(\"header\", True) \\\n",
    ".mode(\"overwrite\") \\\n",
    ".option(\"path\", \"/user/itv006277/lendingclubproject/bad/bad_data_customers\") \\\n",
    ".save()"
   ]
  },
  {
   "cell_type": "code",
   "execution_count": 18,
   "id": "5d175f6d",
   "metadata": {},
   "outputs": [],
   "source": [
    "bad_data_loans_defaulters_delinq_df.repartition(1).write \\\n",
    ".format(\"csv\") \\\n",
    ".option(\"header\", True) \\\n",
    ".mode(\"overwrite\") \\\n",
    ".option(\"path\", \"/user/itv006277/lendingclubproject/bad/bad_data_loans_defaulters_delinq\") \\\n",
    ".save()"
   ]
  },
  {
   "cell_type": "code",
   "execution_count": 19,
   "id": "d6b5a91e",
   "metadata": {},
   "outputs": [],
   "source": [
    "bad_data_loans_defaulters_detail_rec_enq_df.repartition(1).write \\\n",
    ".format(\"csv\") \\\n",
    ".option(\"header\", True) \\\n",
    ".mode(\"overwrite\") \\\n",
    ".option(\"path\", \"/user/itv006277/lendingclubproject/bad/bad_data_loans_defaulters_detail_rec_enq\") \\\n",
    ".save()"
   ]
  },
  {
   "cell_type": "code",
   "execution_count": 20,
   "id": "4de06c6a",
   "metadata": {},
   "outputs": [],
   "source": [
    "bad_customer_data_df = bad_data_customer_df.select(\"member_id\") \\\n",
    ".union(bad_data_loans_defaulters_delinq_df.select(\"member_id\")) \\\n",
    ".union(bad_data_loans_defaulters_detail_rec_enq_df.select(\"member_id\"))"
   ]
  },
  {
   "cell_type": "code",
   "execution_count": 21,
   "id": "7322ddc4",
   "metadata": {},
   "outputs": [],
   "source": [
    "bad_customer_data_final_df = bad_customer_data_df.distinct()"
   ]
  },
  {
   "cell_type": "code",
   "execution_count": 22,
   "id": "bcb216b8",
   "metadata": {},
   "outputs": [
    {
     "data": {
      "text/plain": [
       "3189"
      ]
     },
     "execution_count": 22,
     "metadata": {},
     "output_type": "execute_result"
    }
   ],
   "source": [
    "bad_customer_data_final_df.count()"
   ]
  },
  {
   "cell_type": "code",
   "execution_count": 23,
   "id": "55729969",
   "metadata": {},
   "outputs": [],
   "source": [
    "bad_customer_data_final_df.repartition(1).write \\\n",
    ".format(\"csv\") \\\n",
    ".option(\"header\", True) \\\n",
    ".mode(\"overwrite\") \\\n",
    ".option(\"path\", \"/user/itv006277/lendingclubproject/bad/bad_customer_data_final\") \\\n",
    ".save()"
   ]
  },
  {
   "cell_type": "code",
   "execution_count": 24,
   "id": "98040870",
   "metadata": {},
   "outputs": [],
   "source": [
    "bad_customer_data_final_df.createOrReplaceTempView(\"bad_data_customer\")"
   ]
  },
  {
   "cell_type": "code",
   "execution_count": 25,
   "id": "97019b35",
   "metadata": {},
   "outputs": [],
   "source": [
    "customers_df = spark.sql(\"\"\"select * from itv006277_lending_club.customers\n",
    "where member_id NOT IN (select member_id from bad_data_customer)\n",
    "\"\"\")"
   ]
  },
  {
   "cell_type": "code",
   "execution_count": null,
   "id": "ddf91e7a",
   "metadata": {},
   "outputs": [],
   "source": [
    "customers_df.write \\\n",
    ".format(\"parquet\") \\\n",
    ".mode(\"overwrite\") \\\n",
    ".option(\"path\", \"/user/itv006277/lendingclubproject/raw/cleaned_new/customers_parquet\") \\\n",
    ".save()"
   ]
  },
  {
   "cell_type": "code",
   "execution_count": null,
   "id": "7aefd4b6",
   "metadata": {},
   "outputs": [],
   "source": [
    "loans_defaulters_delinq_df = spark.sql(\"\"\"select * from itv006277_lending_club.loans_defaulters_delinq\n",
    "where member_id NOT IN (select member_id from bad_data_customer)\n",
    "\"\"\")"
   ]
  },
  {
   "cell_type": "code",
   "execution_count": null,
   "id": "70eae788",
   "metadata": {},
   "outputs": [],
   "source": [
    "loans_defaulters_delinq_df.write \\\n",
    ".format(\"parquet\") \\\n",
    ".mode(\"overwrite\") \\\n",
    ".option(\"path\", \"/user/itv006277/lendingclubproject/raw/cleaned_new/loans_defaulters_delinq_parquet\") \\\n",
    ".save()"
   ]
  },
  {
   "cell_type": "code",
   "execution_count": null,
   "id": "1cd2df08",
   "metadata": {},
   "outputs": [],
   "source": [
    "loans_defaulters_detail_rec_enq_df = spark.sql(\"\"\"select * from itv006277_lending_club.loans_defaulters_detail_rec_enq\n",
    "where member_id NOT IN (select member_id from bad_data_customer)\n",
    "\"\"\")"
   ]
  },
  {
   "cell_type": "code",
   "execution_count": null,
   "id": "4c0c0b1e",
   "metadata": {},
   "outputs": [],
   "source": [
    "loans_defaulters_detail_rec_enq_df.write \\\n",
    ".format(\"parquet\") \\\n",
    ".mode(\"overwrite\") \\\n",
    ".option(\"path\", \"/user/itv006277/lendingclubproject/raw/cleaned_new/loans_defaulters_detail_rec_enq_parquet\") \\\n",
    ".save()"
   ]
  },
  {
   "cell_type": "code",
   "execution_count": null,
   "id": "30e7ea59",
   "metadata": {},
   "outputs": [],
   "source": [
    "spark.sql(\"\"\"\n",
    "create EXTERNAL TABLE itv006277_lending_club.customers_new(member_id string, emp_title string, emp_length int, home_ownership string, \n",
    "annual_income float, address_state string, address_zipcode string, address_country string, grade string, \n",
    "sub_grade string, verification_status string, total_high_credit_limit float, application_type string, \n",
    "join_annual_income float, verification_status_joint string, ingest_date timestamp)\n",
    "stored as parquet\n",
    "LOCATION '/public/trendytech/lendingclubproject/cleaned_new/customer_parquet'\n",
    "\"\"\")"
   ]
  },
  {
   "cell_type": "code",
   "execution_count": null,
   "id": "370aa59c",
   "metadata": {},
   "outputs": [],
   "source": [
    "spark.sql(\"\"\"\n",
    "create EXTERNAL TABLE itv006277_lending_club.loans_defaulters_delinq_new(member_id string,delinq_2yrs integer, delinq_amnt float, mths_since_last_delinq integer)\n",
    "stored as parquet\n",
    "LOCATION '/public/trendytech/lendingclubproject/cleaned_new/loan_defaulters_delinq_parquet'\n",
    "\"\"\")"
   ]
  },
  {
   "cell_type": "code",
   "execution_count": null,
   "id": "1063c44a",
   "metadata": {},
   "outputs": [],
   "source": [
    "spark.sql(\"\"\"\n",
    "create EXTERNAL TABLE itv006277_lending_club.loans_defaulters_detail_rec_enq_new(member_id string, pub_rec integer, pub_rec_bankruptcies integer, inq_last_6mths integer)\n",
    "stored as parquet\n",
    "LOCATION '/public/trendytech/lendingclubproject/cleaned_new/loan_defaulters_detail_rec_enq_parquet'\n",
    "\"\"\")"
   ]
  },
  {
   "cell_type": "code",
   "execution_count": null,
   "id": "55724ca2",
   "metadata": {},
   "outputs": [],
   "source": [
    "spark.sql(\"\"\"select member_id, count(*) as total \n",
    "from itv006277_lending_club.customers_new\n",
    "group by member_id order by total desc\"\"\")"
   ]
  },
  {
   "cell_type": "code",
   "execution_count": null,
   "id": "82ff0a73",
   "metadata": {},
   "outputs": [],
   "source": []
  },
  {
   "cell_type": "code",
   "execution_count": null,
   "id": "699a3184",
   "metadata": {},
   "outputs": [],
   "source": []
  }
 ],
 "metadata": {
  "kernelspec": {
   "display_name": "Pyspark 3",
   "language": "python",
   "name": "pyspark3"
  },
  "language_info": {
   "codemirror_mode": {
    "name": "ipython",
    "version": 3
   },
   "file_extension": ".py",
   "mimetype": "text/x-python",
   "name": "python",
   "nbconvert_exporter": "python",
   "pygments_lexer": "ipython3",
   "version": "3.6.12"
  }
 },
 "nbformat": 4,
 "nbformat_minor": 5
}
